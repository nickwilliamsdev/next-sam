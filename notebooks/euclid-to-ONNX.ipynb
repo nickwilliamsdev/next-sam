{
 "cells": [
  {
   "cell_type": "code",
   "execution_count": null,
   "metadata": {},
   "outputs": [],
   "source": [
    "import numpy as np\n",
    "import onnx\n",
    "from onnx import helper, numpy_helper\n",
    "\n",
    "def create_euclidean_model():\n",
    "    # Define input tensors (two arrays of shape [n])\n",
    "    input_a = helper.make_tensor_value_info('input_a', onnx.TensorProto.FLOAT, [None])\n",
    "    input_b = helper.make_tensor_value_info('input_b', onnx.TensorProto.FLOAT, [None])\n",
    "    \n",
    "    # Define output tensor (Euclidean distance, scalar)\n",
    "    output = helper.make_tensor_value_info('distance', onnx.TensorProto.FLOAT, [])\n",
    "    \n",
    "    # Nodes to calculate squared difference\n",
    "    diff = helper.make_node('Sub', ['input_a', 'input_b'], ['diff'])\n",
    "    square = helper.make_node('Mul', ['diff', 'diff'], ['squared_diff'])\n",
    "    sum_node = helper.make_node('ReduceSum', ['squared_diff'], ['sum'], axes=[0])\n",
    "    sqrt = helper.make_node('Sqrt', ['sum'], ['distance'])\n",
    "    \n",
    "    # Create the graph\n",
    "    graph = helper.make_graph(\n",
    "        [diff, square, sum_node, sqrt],\n",
    "        'EuclideanDistanceGraph',\n",
    "        [input_a, input_b],\n",
    "        [output]\n",
    "    )\n",
    "    \n",
    "    # Create the model\n",
    "    model = helper.make_model(graph, producer_name='distance-model')\n",
    "    onnx.save(model, 'euclidean_distance.onnx')\n",
    "\n",
    "create_euclidean_model()\n"
   ]
  }
 ],
 "metadata": {
  "language_info": {
   "name": "python"
  }
 },
 "nbformat": 4,
 "nbformat_minor": 2
}
